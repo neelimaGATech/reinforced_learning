{
 "cells": [
  {
   "cell_type": "code",
   "execution_count": 3,
   "id": "3eeaa833-a622-4f81-8d95-f6a55b74cd78",
   "metadata": {},
   "outputs": [],
   "source": [
    "import warnings\n",
    "warnings.filterwarnings('ignore')\n",
    "\n",
    "import gymnasium as gym\n",
    "from bettermdptools.utils.blackjack_wrapper import BlackjackWrapper\n",
    "from bettermdptools.utils.test_env import TestEnv\n",
    "from bettermdptools.algorithms.planner import Planner\n",
    "from bettermdptools.algorithms.rl import RL\n",
    "import numpy as np"
   ]
  },
  {
   "cell_type": "code",
   "execution_count": null,
   "id": "e3b71eae-992e-488c-bb26-2534a0fabbf5",
   "metadata": {},
   "outputs": [],
   "source": [
    "gamma = 1.0\n",
    "n_iters=1000\n",
    "theta=1e-10"
   ]
  },
  {
   "cell_type": "code",
   "execution_count": 7,
   "id": "08c40f45-070b-49a8-a1c5-627b9beb376e",
   "metadata": {},
   "outputs": [
    {
     "name": "stdout",
     "output_type": "stream",
     "text": [
      "runtime = 0.02 seconds\n",
      "-0.24\n"
     ]
    },
    {
     "name": "stderr",
     "output_type": "stream",
     "text": [
      "                                                                                                                       "
     ]
    },
    {
     "name": "stdout",
     "output_type": "stream",
     "text": [
      "runtime = 1.21 seconds\n",
      "-0.19\n"
     ]
    },
    {
     "name": "stderr",
     "output_type": "stream",
     "text": [
      "\r"
     ]
    }
   ],
   "source": [
    "base_env = gym.make('Blackjack-v1', render_mode=None)\n",
    "blackjack = BlackjackWrapper(base_env)\n",
    "\n",
    "# run VI\n",
    "V, V_track, pi = Planner(blackjack.P).value_iteration(gamma=0.8)\n",
    "\n",
    "#test policy\n",
    "test_scores = TestEnv.test_env(env=blackjack, n_iters=100, render=False, pi=pi, user_input=False)\n",
    "print(np.mean(test_scores))\n",
    "\n",
    "# Q-learning\n",
    "Q, V, pi, Q_track, pi_track = RL(blackjack).q_learning()\n",
    "\n",
    "#test policy\n",
    "test_scores = TestEnv.test_env(env=blackjack, n_iters=100, render=False, pi=pi, user_input=False)\n",
    "print(np.mean(test_scores))"
   ]
  },
  {
   "cell_type": "code",
   "execution_count": null,
   "id": "dca6bc77-e35c-459e-8a24-5c2b3795b6f4",
   "metadata": {},
   "outputs": [],
   "source": []
  }
 ],
 "metadata": {
  "kernelspec": {
   "display_name": "Python 3 (ipykernel)",
   "language": "python",
   "name": "python3"
  },
  "language_info": {
   "codemirror_mode": {
    "name": "ipython",
    "version": 3
   },
   "file_extension": ".py",
   "mimetype": "text/x-python",
   "name": "python",
   "nbconvert_exporter": "python",
   "pygments_lexer": "ipython3",
   "version": "3.10.9"
  }
 },
 "nbformat": 4,
 "nbformat_minor": 5
}
